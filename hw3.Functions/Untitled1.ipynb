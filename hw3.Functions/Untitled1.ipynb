{
 "cells": [
  {
   "cell_type": "code",
   "execution_count": 8,
   "metadata": {},
   "outputs": [],
   "source": [
    "queries = [\n",
    "    'смотреть сериалы онлайн',\n",
    "    'новости спорта',\n",
    "    'афиша кино',\n",
    "    'курс доллара',\n",
    "    'сериалы этим летом',\n",
    "    'курс по питону',\n",
    "    'сериалы про спорт',\n",
    "]"
   ]
  },
  {
   "cell_type": "code",
   "execution_count": 9,
   "metadata": {},
   "outputs": [
    {
     "name": "stdout",
     "output_type": "stream",
     "text": [
      "Из трех слов состоят: 57.14 %\n",
      "Из двух слов состоят: 42.86 %\n"
     ]
    }
   ],
   "source": [
    "# плохой вариант, т.к. ограничивается только данными из примера\n",
    "element_sum = 0\n",
    "output = []\n",
    "for element in queries:\n",
    "    output.append(len(element.split()))\n",
    "print(\"Из трех слов состоят: \", round(output.count(3) / len(output) * 100, 2), \" %\", sep=\"\")\n",
    "print(\"Из двух слов состоят: \", round(output.count(2) / len(output) * 100, 2), \" %\", sep=\"\")"
   ]
  },
  {
   "cell_type": "code",
   "execution_count": 10,
   "metadata": {},
   "outputs": [
    {
     "name": "stdout",
     "output_type": "stream",
     "text": [
      "Строчка еще с двумя словами сверху\n",
      "Запросов из 3 слов: 57.14%\n",
      "Запросов из 2 слов: 42.86%\n"
     ]
    }
   ],
   "source": [
    "res = {}\n",
    "\n",
    "for query in queries:\n",
    "    splitted_query_len = len(query.split())\n",
    "    if splitted_query_len not in res:\n",
    "        res[splitted_query_len] = 1\n",
    "    else:\n",
    "        res[splitted_query_len] += 1\n",
    "\n",
    "print('Строчка еще с двумя словами сверху')        \n",
    "for k, v in res.items():\n",
    "    print(f'Запросов из {k} слов: {round(v/len(queries)*100, 2)}%')"
   ]
  },
  {
   "cell_type": "code",
   "execution_count": 11,
   "metadata": {},
   "outputs": [
    {
     "data": {
      "text/plain": [
       "{'3': 4, '2': 3}"
      ]
     },
     "execution_count": 11,
     "metadata": {},
     "output_type": "execute_result"
    }
   ],
   "source": [
    "query_words_count_dict = {}\n",
    "for querie in queries:\n",
    "    current_query_len = str(len(querie.split()))\n",
    "    query_words_count_dict.setdefault(current_query_len, 0)\n",
    "    query_words_count_dict[current_query_len] += 1\n",
    "\n",
    "query_words_count_dict"
   ]
  },
  {
   "cell_type": "code",
   "execution_count": 19,
   "metadata": {},
   "outputs": [
    {
     "data": {
      "text/plain": [
       "{3: 57.14285714285714, 2: 42.857142857142854}"
      ]
     },
     "execution_count": 19,
     "metadata": {},
     "output_type": "execute_result"
    }
   ],
   "source": [
    "from collections import Counter\n",
    "counter = {x: y / len(queries) * 100 for x, y in Counter([len(query.split()) for query in queries]).items()}\n",
    "counter"
   ]
  },
  {
   "cell_type": "markdown",
   "metadata": {},
   "source": [
    "# 3 задача из ДЗ (ROI)"
   ]
  },
  {
   "cell_type": "code",
   "execution_count": null,
   "metadata": {},
   "outputs": [],
   "source": [
    "results = {\n",
    "    'vk': {'revenue': 103, 'cost': 98},\n",
    "    'yandex': {'revenue': 179, 'cost': 153},\n",
    "    'facebook': {'revenue': 103, 'cost': 110},\n",
    "    'adwords': {'revenue': 35, 'cost': 34},\n",
    "    'twitter': {'revenue': 11, 'cost': 24},\n",
    "}"
   ]
  },
  {
   "cell_type": "code",
   "execution_count": null,
   "metadata": {},
   "outputs": [],
   "source": [
    "for info in results.values():\n",
    "    info['ROI'] = round(info['revenue'] / info['cost'] * 100 - 100, 2)\n",
    "    \n",
    "results"
   ]
  },
  {
   "cell_type": "markdown",
   "metadata": {},
   "source": [
    "# 5 задача из ДЗ"
   ]
  },
  {
   "cell_type": "code",
   "execution_count": null,
   "metadata": {},
   "outputs": [],
   "source": [
    "my_list = ['2018-01-01', 'yandex', 'cpc', 100]"
   ]
  },
  {
   "cell_type": "code",
   "execution_count": null,
   "metadata": {},
   "outputs": [],
   "source": [
    "{'2018-01-01': {'yandex': {'cpc': 100}}}"
   ]
  },
  {
   "cell_type": "code",
   "execution_count": null,
   "metadata": {},
   "outputs": [],
   "source": [
    "res = my_list[-1]"
   ]
  },
  {
   "cell_type": "code",
   "execution_count": null,
   "metadata": {},
   "outputs": [],
   "source": [
    "for el in reversed(my_list[:-1]):\n",
    "    res = {el: res}\n",
    "res"
   ]
  },
  {
   "cell_type": "code",
   "execution_count": null,
   "metadata": {},
   "outputs": [],
   "source": [
    "# Практика. Напишем функцию, которая будет находить среднюю цену на квартиры в городе\n",
    "dict_1 = {'flat_1': 10500, 'flat_2': 11000}\n",
    "dict_2 = {'flat_3': 15000}\n",
    "dict_3 = {'flat_4': 6500, 'flat_5': 7000, 'flat_6': 6000}\n",
    "\n",
    "def get_avg_price(*districts):\n",
    "    prices = 0\n",
    "    count = 0\n",
    "    for district in districts:\n",
    "        prices += sum(district.values())\n",
    "        count += len(district.values())\n",
    "    return prices / count\n",
    "\n",
    "get_avg_price(dict_1, dict_2, dict_3)"
   ]
  },
  {
   "cell_type": "code",
   "execution_count": null,
   "metadata": {},
   "outputs": [],
   "source": [
    "# map и lambda\n",
    "prices = [[100, 200, 400, 600], [200, 500], [100, 200, 100, 100], [800, 900]]\n",
    "list(map(sum, prices))"
   ]
  },
  {
   "cell_type": "code",
   "execution_count": null,
   "metadata": {},
   "outputs": [],
   "source": []
  },
  {
   "cell_type": "code",
   "execution_count": null,
   "metadata": {},
   "outputs": [],
   "source": [
    "res = []\n",
    "for price in prices:\n",
    "    res.append(sum(price) / len(price))\n",
    "res"
   ]
  },
  {
   "cell_type": "code",
   "execution_count": null,
   "metadata": {},
   "outputs": [],
   "source": [
    "dict_1 = {'flat_1': [10500, 2000], 'flat_2': [22, 3444]}\n",
    "list(map(sum, dict_1.values()))"
   ]
  },
  {
   "cell_type": "code",
   "execution_count": null,
   "metadata": {},
   "outputs": [],
   "source": [
    "for el in dict_1:\n",
    "    print(el)"
   ]
  },
  {
   "cell_type": "code",
   "execution_count": null,
   "metadata": {},
   "outputs": [],
   "source": [
    "# Практика \n",
    "\n",
    "students_list = [\n",
    "    {\"name\": \"Василий\", \"surname\": \"Теркин\", \"gender\": \"м\", \"program_exp\": True, \"grade\": [8, 8, 9, 10, 9], \"exam\": 8},\n",
    "    {\"name\": \"Мария\", \"surname\": \"Павлова\", \"gender\": \"ж\", \"program_exp\": True, \"grade\": [7, 8, 9, 7, 9], \"exam\": 9},\n",
    "    {\"name\": \"Ирина\", \"surname\": \"Андреева\", \"gender\": \"ж\", \"program_exp\": False, \"grade\": [10, 9, 8, 10, 10], \"exam\": 7},\n",
    "    {\"name\": \"Татьяна\", \"surname\": \"Сидорова\", \"gender\": \"ж\", \"program_exp\": False, \"grade\": [7, 8, 8, 9, 8],\"exam\": 10},\n",
    "    {\"name\": \"Иван\", \"surname\": \"Васильев\", \"gender\": \"м\", \"program_exp\": True, \"grade\": [9, 8, 9, 6, 9], \"exam\": 5},\n",
    "    {\"name\": \"Роман\", \"surname\": \"Золотарев\", \"gender\": \"м\", \"program_exp\": False, \"grade\": [8, 9, 9, 6, 9], \"exam\": 6}\n",
    "]"
   ]
  },
  {
   "cell_type": "code",
   "execution_count": null,
   "metadata": {},
   "outputs": [],
   "source": [
    "# def get_avg_exam_grade(students):\n",
    "#     sum_ex = 0\n",
    "#     for student in students:\n",
    "#         sum_ex += student['exam']\n",
    "#     return round(sum_ex / len(students), 2)\n",
    "\n",
    "# get_avg_exam_grade(students_list)"
   ]
  },
  {
   "cell_type": "code",
   "execution_count": null,
   "metadata": {},
   "outputs": [],
   "source": [
    "def get_avg_hw_grades(students):\n",
    "    sum_hw = 0\n",
    "    for student in students:\n",
    "        sum_hw += sum(student['grade']) / len(student['grade'])\n",
    "    return round(sum_hw / len(students), 2)\n",
    "\n",
    "get_avg_hw_grades(students_list)"
   ]
  },
  {
   "cell_type": "code",
   "execution_count": null,
   "metadata": {},
   "outputs": [],
   "source": [
    "def get_avg_exam_grade(students, gender=None, exp=None):\n",
    "    sum_ex = 0\n",
    "    counter = 0\n",
    "    for student in students:\n",
    "        if (student['gender'] == gender and student['program_exp'] == exp) or \\\n",
    "        (gender is None and student['program_exp'] == exp) or \\\n",
    "        (student['gender'] == gender and exp is None) or \\\n",
    "        (exp is None and gender is None):\n",
    "            sum_ex += student['exam']\n",
    "            counter += 1\n",
    "    return round(sum_ex / counter, 2)\n",
    "\n",
    "print(get_avg_exam_grade(students_list))\n",
    "print(get_avg_exam_grade(students_list, 'м'))\n",
    "print(get_avg_exam_grade(students_list, 'ж'))\n",
    "print(get_avg_exam_grade(students_list, exp=True))\n",
    "print(get_avg_exam_grade(students_list, exp=False))\n",
    "print(get_avg_exam_grade(students_list, 'м', exp=True))\n",
    "print(get_avg_exam_grade(students_list, 'ж', exp=True))\n",
    "print(get_avg_exam_grade(students_list, 'м', exp=False))\n",
    "print(get_avg_exam_grade(students_list, 'ж', exp=False))"
   ]
  },
  {
   "cell_type": "code",
   "execution_count": null,
   "metadata": {},
   "outputs": [],
   "source": [
    "def main(students):\n",
    "    while True:\n",
    "        user_input = input('Введите команду')\n",
    "        if user_input == '1':\n",
    "            print(get_avg_exam_grade(students))\n",
    "        elif user_input == '2':\n",
    "            print(get_avg_hw_grades(students))\n",
    "        elif user_input == '3':\n",
    "            print(get_avg_exam_grade(students, 'м'))\n",
    "        elif user_input == 'q':\n",
    "            break\n",
    "        else:\n",
    "            print('Введена неверная команда')"
   ]
  },
  {
   "cell_type": "code",
   "execution_count": null,
   "metadata": {},
   "outputs": [],
   "source": [
    "main(students_list)"
   ]
  },
  {
   "cell_type": "code",
   "execution_count": null,
   "metadata": {},
   "outputs": [],
   "source": []
  }
 ],
 "metadata": {
  "kernelspec": {
   "display_name": "Python 3",
   "language": "python",
   "name": "python3"
  },
  "language_info": {
   "codemirror_mode": {
    "name": "ipython",
    "version": 3
   },
   "file_extension": ".py",
   "mimetype": "text/x-python",
   "name": "python",
   "nbconvert_exporter": "python",
   "pygments_lexer": "ipython3",
   "version": "3.8.3"
  }
 },
 "nbformat": 4,
 "nbformat_minor": 4
}

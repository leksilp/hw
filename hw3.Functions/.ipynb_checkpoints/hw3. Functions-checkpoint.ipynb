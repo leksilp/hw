{
 "cells": [
  {
   "cell_type": "code",
   "execution_count": 128,
   "metadata": {
    "scrolled": true
   },
   "outputs": [],
   "source": [
    "documents = [\n",
    " {'type': 'passport', 'number': '2207 876234', 'name': 'Василий Гупкин'},\n",
    " {'type': 'invoice', 'number': '11-2', 'name': 'Геннадий Покемонов'},\n",
    " {'type': 'insurance', 'number': '10006', 'name': 'Аристарх Павлов'}\n",
    "]\n",
    "\n",
    "directories = {\n",
    " '1': ['2207 876234', '11-2'],\n",
    " '2': ['10006'],\n",
    " '3': []\n",
    "}"
   ]
  },
  {
   "cell_type": "code",
   "execution_count": 129,
   "metadata": {
    "scrolled": true
   },
   "outputs": [],
   "source": [
    "def find_owner():\n",
    "    user_input = input(\"Введите номер документа:\")\n",
    "    for dic in documents:\n",
    "        for key,value in dic.items():\n",
    "            if key == \"number\" and value == user_input:\n",
    "                return f'Владелец документа: {dic[\"name\"]}'\n",
    "    return'Документ не найден в базе'\n",
    "                "
   ]
  },
  {
   "cell_type": "code",
   "execution_count": 156,
   "metadata": {},
   "outputs": [],
   "source": [
    "def find_shelf(number_doc):\n",
    "    for key, value in directories.items():\n",
    "        if number_doc in value:\n",
    "            return f'Документ находится на полке: {key}'\n",
    "    return 'Документ не найден'"
   ]
  },
  {
   "cell_type": "code",
   "execution_count": 159,
   "metadata": {},
   "outputs": [],
   "source": [
    "def information():\n",
    "    for dic in documents:\n",
    "        print(f'№ {dic[\"number\"]}, тип {dic[\"type\"]}, владелец {dic[\"name\"]}, {find_shelf(dic[\"number\"])}')\n",
    "   \n"
   ]
  },
  {
   "cell_type": "code",
   "execution_count": 132,
   "metadata": {},
   "outputs": [],
   "source": [
    "def add_shelf():\n",
    "    user_input = input(\"Введите номер полки:\")\n",
    "    if user_input not in directories.keys():\n",
    "        directories[user_input] = user_input\n",
    "        return f'Полка добавлена'\n",
    "    return f'Такая полка уже существует. Текущий перечень полок: {directories.keys()}'\n"
   ]
  },
  {
   "cell_type": "code",
   "execution_count": 160,
   "metadata": {
    "scrolled": true
   },
   "outputs": [
    {
     "name": "stdout",
     "output_type": "stream",
     "text": [
      "Введите команду:i\n",
      "№ 2207 876234, тип passport, владелец Василий Гупкин, Документ находится на полке: 1\n",
      "№ 11-2, тип invoice, владелец Геннадий Покемонов, Документ находится на полке: 1\n",
      "№ 10006, тип insurance, владелец Аристарх Павлов, Документ находится на полке: 2\n",
      "None\n",
      "Введите команду:q\n"
     ]
    }
   ],
   "source": [
    "while True:\n",
    "    user_input = input(\"Введите команду:\").lower()\n",
    "    if user_input == 'p':\n",
    "        print(find_owner())\n",
    "    elif user_input == 's':\n",
    "        print(find_shelf(input(\"Введите номер документа: \")))\n",
    "    elif user_input == 'i':\n",
    "        print(information())\n",
    "    elif user_input == 'ads':\n",
    "        print(add_shelf())\n",
    "    elif user_input == 'q':\n",
    "        break"
   ]
  }
 ],
 "metadata": {
  "kernelspec": {
   "display_name": "Python 3",
   "language": "python",
   "name": "python3"
  },
  "language_info": {
   "codemirror_mode": {
    "name": "ipython",
    "version": 3
   },
   "file_extension": ".py",
   "mimetype": "text/x-python",
   "name": "python",
   "nbconvert_exporter": "python",
   "pygments_lexer": "ipython3",
   "version": "3.8.3"
  }
 },
 "nbformat": 4,
 "nbformat_minor": 4
}

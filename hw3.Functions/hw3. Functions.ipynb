{
 "cells": [
  {
   "cell_type": "code",
   "execution_count": null,
   "metadata": {
    "scrolled": true
   },
   "outputs": [],
   "source": [
    "documents = [\n",
    " {'type': 'passport', 'number': '2207 876234', 'name': 'Василий Гупкин'},\n",
    " {'type': 'invoice', 'number': '11-2', 'name': 'Геннадий Покемонов'},\n",
    " {'type': 'insurance', 'number': '10006', 'name': 'Аристарх Павлов'}\n",
    "]\n",
    "\n",
    "directories = {\n",
    " '1': ['2207 876234', '11-2'],\n",
    " '2': ['10006'],\n",
    " '3': []\n",
    "}"
   ]
  },
  {
   "cell_type": "code",
   "execution_count": 99,
   "metadata": {
    "scrolled": true
   },
   "outputs": [
    {
     "name": "stdout",
     "output_type": "stream",
     "text": [
      "Введите номер документа:10006\n"
     ]
    },
    {
     "data": {
      "text/plain": [
       "'Владелец документа: Аристарх Павлов'"
      ]
     },
     "execution_count": 99,
     "metadata": {},
     "output_type": "execute_result"
    }
   ],
   "source": [
    "def find_owner():\n",
    "    user_input = input(\"Введите номер документа:\")\n",
    "    for dic in documents:\n",
    "        for key,value in dic.items():\n",
    "            if key == \"number\" and value == user_input:\n",
    "                return f'Владелец документа: {dic[\"name\"]}'\n",
    "    return'Документ не найден в базе'\n",
    "                \n",
    "find_owner()"
   ]
  },
  {
   "cell_type": "code",
   "execution_count": 100,
   "metadata": {},
   "outputs": [
    {
     "name": "stdout",
     "output_type": "stream",
     "text": [
      "Введите номер документа:10006\n"
     ]
    },
    {
     "data": {
      "text/plain": [
       "'Документ хранится на полке: 2'"
      ]
     },
     "execution_count": 100,
     "metadata": {},
     "output_type": "execute_result"
    }
   ],
   "source": [
    "def find_shelf():\n",
    "    user_input = input(\"Введите номер документа:\")\n",
    "    for key, value in directories.items():\n",
    "        if user_input in value:\n",
    "            return f'Документ хранится на полке: {key}'\n",
    "    return'Документ не найден'\n",
    "\n",
    "find_shelf()"
   ]
  },
  {
   "cell_type": "code",
   "execution_count": null,
   "metadata": {},
   "outputs": [],
   "source": [
    "def information():\n",
    "    for dic in documents:\n",
    "        type_doc = dic['type']\n",
    "        num = dic['number']\n",
    "        owner = dic['name']\n",
    "    for key, value in directories.items():\n",
    "        if num in value:\n",
    "            x=key\n",
    "        continue\n",
    "    return f'№ {num}, тип {type_doc}, владелец {owner}, полка хранения {x}'\n",
    "        \n",
    "information()\n"
   ]
  },
  {
   "cell_type": "code",
   "execution_count": 71,
   "metadata": {},
   "outputs": [
    {
     "name": "stdout",
     "output_type": "stream",
     "text": [
      "Введите номер полки:10\n"
     ]
    },
    {
     "data": {
      "text/plain": [
       "\"Такая полка уже существует. Текущий перечень полок: dict_keys(['1', '2', '3', '10'])\""
      ]
     },
     "execution_count": 71,
     "metadata": {},
     "output_type": "execute_result"
    }
   ],
   "source": [
    "def add_shelf():\n",
    "    user_input = input(\"Введите номер полки:\")\n",
    "    if user_input not in directories.keys():\n",
    "        directories[user_input] = user_input\n",
    "        return f'Полка добавлена'\n",
    "    return f'Такая полка уже существует. Текущий перечень полок: {directories.keys()}'\n",
    "\n",
    "add_shelf()\n"
   ]
  },
  {
   "cell_type": "code",
   "execution_count": null,
   "metadata": {
    "scrolled": true
   },
   "outputs": [
    {
     "name": "stdout",
     "output_type": "stream",
     "text": [
      "Введите команду:56\n",
      "Введите команду:p\n",
      "Введите номер документа:10006\n"
     ]
    }
   ],
   "source": [
    "while True:\n",
    "    user_input = input(\"Введите команду:\")\n",
    "    if user_input == 'p':\n",
    "        find_owner()\n",
    "    elif user_input == 's':\n",
    "        find_shelf()\n",
    "    elif user_input == 'i':\n",
    "        information()\n",
    "    elif user_input == 'ads':\n",
    "        add_shelf()\n",
    "    elif user_input == 'q':\n",
    "        break\n"
   ]
  }
 ],
 "metadata": {
  "kernelspec": {
   "display_name": "Python 3",
   "language": "python",
   "name": "python3"
  },
  "language_info": {
   "codemirror_mode": {
    "name": "ipython",
    "version": 3
   },
   "file_extension": ".py",
   "mimetype": "text/x-python",
   "name": "python",
   "nbconvert_exporter": "python",
   "pygments_lexer": "ipython3",
   "version": "3.8.3"
  }
 },
 "nbformat": 4,
 "nbformat_minor": 4
}

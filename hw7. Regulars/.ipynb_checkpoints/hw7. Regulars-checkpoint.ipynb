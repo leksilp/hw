{
 "cells": [
  {
   "cell_type": "code",
   "execution_count": 2,
   "metadata": {},
   "outputs": [],
   "source": [
    "import re"
   ]
  },
  {
   "cell_type": "code",
   "execution_count": 140,
   "metadata": {},
   "outputs": [],
   "source": [
    "def auto_number():\n",
    "    user_input = input('Введите номер автомобиля: ').upper()\n",
    "    car_id = r'([АВЕКМНОРСТУХ]{2})(\\d{3})([АВЕКМНОРСТУХ])(\\d{2,3})'\n",
    "    find = re.search(car_id, user_input)\n",
    "    if find:\n",
    "        print(f'Номер {find.group(1)}{find.group(2)}{find.group(3)} валиден. Регион {find.group(4)}' )\n",
    "    else:\n",
    "        print('Номер не валиден')"
   ]
  },
  {
   "cell_type": "code",
   "execution_count": 141,
   "metadata": {},
   "outputs": [
    {
     "name": "stdout",
     "output_type": "stream",
     "text": [
      "Введите номер автомобиля: АВ568В568\n",
      "Номер АВ568В валиден. Регион 568\n"
     ]
    }
   ],
   "source": [
    "auto_number()"
   ]
  },
  {
   "cell_type": "code",
   "execution_count": 7,
   "metadata": {},
   "outputs": [],
   "source": [
    "some_string = 'Напишите функцию функцию, которая будет будет будет будет удалять все все все все последовательные повторы слов из из из из заданной строки строки при помощи регулярных выражений'\n",
    "\n",
    "def delete_repeat(some_string):\n",
    "    print(re.sub(r'\\b([^\\W\\d_]+)(\\s+\\1)+\\b', r'\\1', re.sub(r'\\W+', ' ', some_string).strip(), flags=re.I) )"
   ]
  },
  {
   "cell_type": "code",
   "execution_count": 150,
   "metadata": {},
   "outputs": [
    {
     "name": "stdout",
     "output_type": "stream",
     "text": [
      "Напишите функцию которая будет удалять все последовательные повторы слов из заданной строки при помощи регулярных выражений\n"
     ]
    }
   ],
   "source": [
    "delete_repeat(some_string)\n"
   ]
  },
  {
   "cell_type": "code",
   "execution_count": null,
   "metadata": {},
   "outputs": [],
   "source": []
  },
  {
   "cell_type": "code",
   "execution_count": 85,
   "metadata": {},
   "outputs": [],
   "source": [
    "def acronym():\n",
    "    user_input = input('Пользовательский ввод: ')\n",
    "    final = re.findall(r'[A-ZА-Я]', user_input)\n",
    "    print(''.join(final))"
   ]
  },
  {
   "cell_type": "code",
   "execution_count": 86,
   "metadata": {},
   "outputs": [
    {
     "name": "stdout",
     "output_type": "stream",
     "text": [
      "Пользовательский ввод: Информационные Технологии\n",
      "ИТ\n"
     ]
    }
   ],
   "source": [
    "acronym()"
   ]
  },
  {
   "cell_type": "code",
   "execution_count": null,
   "metadata": {},
   "outputs": [],
   "source": []
  },
  {
   "cell_type": "code",
   "execution_count": 156,
   "metadata": {},
   "outputs": [],
   "source": [
    "emails = ['test@gmail.com, xyz@test.in, test@ya.ru, xyz@mail.ru, xyz@ya.ru, xyz@gmail.com']\n",
    "\n",
    "def domains(emails):\n",
    "    for email in emails:\n",
    "        gmail_pattern = r'gmail+\\.com'\n",
    "        find_gmail = re.findall(gmail_pattern, email)\n",
    "        mail_pattern = r'mail+\\.ru'\n",
    "        find_mail = re.findall(mail_pattern, email)\n",
    "        test_pattern = r'test+\\.in'\n",
    "        find_test = re.findall(test_pattern, email)\n",
    "        ya_pattern = r'ya+\\.ru'\n",
    "        find_ya = re.findall(ya_pattern, email)\n",
    "    \n",
    "    print(f'{find_gmail[0]}:{len(find_gmail)}')\n",
    "    print(f'{find_mail[0]}:{len(find_mail)}')\n",
    "    print(f'{find_test[0]}:{len(find_test)}')\n",
    "    print(f'{find_ya[0]}:{len(find_ya)}')\n",
    "\n",
    "\n"
   ]
  },
  {
   "cell_type": "code",
   "execution_count": 157,
   "metadata": {},
   "outputs": [
    {
     "name": "stdout",
     "output_type": "stream",
     "text": [
      "gmail.com:2\n",
      "mail.ru:1\n",
      "test.in:1\n",
      "ya.ru:2\n"
     ]
    }
   ],
   "source": [
    "domains(emails)"
   ]
  },
  {
   "cell_type": "code",
   "execution_count": null,
   "metadata": {},
   "outputs": [],
   "source": []
  },
  {
   "cell_type": "code",
   "execution_count": null,
   "metadata": {},
   "outputs": [],
   "source": []
  }
 ],
 "metadata": {
  "kernelspec": {
   "display_name": "Python 3",
   "language": "python",
   "name": "python3"
  },
  "language_info": {
   "codemirror_mode": {
    "name": "ipython",
    "version": 3
   },
   "file_extension": ".py",
   "mimetype": "text/x-python",
   "name": "python",
   "nbconvert_exporter": "python",
   "pygments_lexer": "ipython3",
   "version": "3.8.3"
  }
 },
 "nbformat": 4,
 "nbformat_minor": 4
}

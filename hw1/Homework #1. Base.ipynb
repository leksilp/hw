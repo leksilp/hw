{
 "cells": [
  {
   "cell_type": "code",
   "execution_count": null,
   "metadata": {},
   "outputs": [],
   "source": [
    "phrase_1 = ''\n",
    "phrase_2 = ''\n",
    "\n",
    "if len (phrase_1) > len(phrase_2):\n",
    "    print('Фраза 1 длиннее фразы 2')\n",
    "    \n",
    "elif len (phrase_1) < len(phrase_2): \n",
    "    print('Фраза 2 длиннее фразы 1')\n",
    "\n",
    "else:\n",
    "    print('Фразы равной длины')\n",
    "print('Конец программы')"
   ]
  },
  {
   "cell_type": "code",
   "execution_count": 14,
   "metadata": {},
   "outputs": [
    {
     "name": "stdout",
     "output_type": "stream",
     "text": [
      "2020\n",
      "Високосный\n",
      "Конец программмы\n"
     ]
    }
   ],
   "source": [
    "year = int(input())\n",
    "if year % 4 != 0:\n",
    "    print ('Обычный')\n",
    "elif year % 100 == 0:\n",
    "    if year % 400 == 0:\n",
    "        print('Високосный')\n",
    "    else:\n",
    "        print('Обычный')\n",
    "else:\n",
    "    print('Високосный')\n",
    "print('Конец программмы')"
   ]
  },
  {
   "cell_type": "code",
   "execution_count": 32,
   "metadata": {},
   "outputs": [
    {
     "name": "stdout",
     "output_type": "stream",
     "text": [
      "Введите день: 9\n",
      "Введите месяц: 11\n",
      "Ваш знак зодиака: Скорпион\n",
      "Конец программы\n"
     ]
    }
   ],
   "source": [
    "Day = int(input('Введите день: '))\n",
    "Month = int(input('Введите месяц: '))\n",
    "\n",
    "if (Day >= 21 and Month == 3 ) or(Day <= 20 and Month == 4):\n",
    "    print('Ваш знак зодиака: Овен')\n",
    "elif (Day >= 21 and Month == 4 ) or(Day <= 20 and Month == 5):\n",
    "    print('Ваш знак зодиака: Телец')\n",
    "elif (Day >= 21 and Month == 5 ) or(Day <= 21 and Month == 6):\n",
    "    print('Ваш знак зодиака: Близнецы')\n",
    "elif (Day >= 22 and Month == 6 ) or(Day <= 22 and Month == 7):\n",
    "    print('Ваш знак зодиака: Рак')\n",
    "elif (Day >= 23 and Month == 7 ) or(Day <= 23 and Month == 8):\n",
    "    print('Ваш знак зодиака: Лев')\n",
    "elif (Day >= 24 and Month == 8 ) or(Day <= 23 and Month == 9):\n",
    "    print('Ваш знак зодиака: Дева')\n",
    "elif (Day >= 24 and Month == 9 ) or(Day <= 23 and Month == 10):\n",
    "    print('Ваш знак зодиака: Весы')\n",
    "elif (Day >= 24 and Month == 10 ) or(Day <= 22 and Month == 11):\n",
    "    print('Ваш знак зодиака: Скорпион')\n",
    "elif (Day >= 23 and Month == 11 ) or(Day <= 21 and Month == 12):\n",
    "    print('Ваш знак зодиака: Стрелец')\n",
    "elif (Day >= 22 and Month == 12 ) or(Day <= 20 and Month == 1):\n",
    "    print('Ваш знак зодиака: Козерог')\n",
    "elif (Day >= 21 and Month == 1 ) or(Day <= 20 and Month == 2):\n",
    "    print('Ваш знак зодиака: Водолей')\n",
    "elif (Day >= 21 and Month == 2 ) or(Day <= 20 and Month == 3):\n",
    "    print('Ваш знак зодиака: Рыбы')\n",
    "print ('Конец программы')"
   ]
  },
  {
   "cell_type": "code",
   "execution_count": 41,
   "metadata": {},
   "outputs": [
    {
     "name": "stdout",
     "output_type": "stream",
     "text": [
      "Коробка №2\n",
      "Конец программы\n"
     ]
    }
   ],
   "source": [
    "width = \n",
    "length = \n",
    "height = \n",
    "if (width < 15 and length < 15 and height < 15):\n",
    "    print('Коробка №1')\n",
    "elif (15 < width < 50 or 15< length < 50 or 15 < height < 50):\n",
    "    print('Коробка №2')\n",
    "elif  length > 200:\n",
    "    print('Упаковка для лыж')\n",
    "else:\n",
    "    print('Стандартная коробка №3')\n",
    "print('Конец программы')"
   ]
  }
 ],
 "metadata": {
  "kernelspec": {
   "display_name": "Python 3",
   "language": "python",
   "name": "python3"
  },
  "language_info": {
   "codemirror_mode": {
    "name": "ipython",
    "version": 3
   },
   "file_extension": ".py",
   "mimetype": "text/x-python",
   "name": "python",
   "nbconvert_exporter": "python",
   "pygments_lexer": "ipython3",
   "version": "3.8.3"
  }
 },
 "nbformat": 4,
 "nbformat_minor": 4
}

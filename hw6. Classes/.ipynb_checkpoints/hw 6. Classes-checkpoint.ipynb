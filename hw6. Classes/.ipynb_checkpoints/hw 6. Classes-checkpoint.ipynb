{
 "cells": [
  {
   "cell_type": "code",
   "execution_count": 2,
   "metadata": {},
   "outputs": [],
   "source": [
    "import requests"
   ]
  },
  {
   "cell_type": "code",
   "execution_count": 222,
   "metadata": {},
   "outputs": [],
   "source": [
    "def max_value():\n",
    "    value = requests.get('https://www.cbr-xml-daily.ru/daily_json.js')\n",
    "    valute = value.json()['Valute']\n",
    "    max_valute = max(valute, key=lambda key_: valute.get(key_).get('Value'))\n",
    "    print(valute.get(max_valute).get('Name'), valute.get(max_valute).get('Value'))\n",
    "    \n",
    "    \n",
    "    \n",
    "    \n",
    "    \n",
    "    \n",
    "    \n",
    "    \n",
    "    \n",
    "    \n",
    "    \n",
    "    \n",
    "    \n",
    "    \n",
    "    \n",
    "    #for key, value in valute.items():\n",
    "     #   values = value['Value']\n",
    "        #name = value['Name']\n",
    "        #max_valute = max(valute, key=lambda key_: valute.get(key_).get('Value'))\n",
    "    #print(name, max_valute)\n",
    "\n",
    "    \n",
    "    \n",
    "    \n",
    "    \n",
    "    \n",
    "    \n",
    "    \n",
    "    \n",
    "    \n",
    "    \n",
    "    \n",
    "    \n",
    "    \n",
    "    \n",
    "    \n",
    "    \n",
    "    \n",
    "    \n",
    "    \n",
    "    \n",
    "    \n",
    "    \n",
    "    \n",
    "    \n",
    "    \n",
    "    \n",
    "    \n",
    "    \n",
    "    #max_value = valute.get(list(valute.keys())[0])['Value']\n",
    "    #print(max_value)\n",
    "    #for valute in valute.values():\n",
    "     #   if valute['Value'] > max_value:\n",
    "      #      max_value = valute['Value']\n",
    "           \n",
    "    #   values = value['Value']\n",
    "            \n",
    "    #for key, value in valute.items():\n",
    "     #   values = value['Value']\n",
    "      #  name = value['Name']\n",
    "       # a = max(valute.items(), key = lambda values: 0 + values)\n",
    "    #print(max_value)\n",
    "        #if name and values not in max_:\n",
    "         #   max_[name] = values\n"
   ]
  },
  {
   "cell_type": "code",
   "execution_count": 223,
   "metadata": {},
   "outputs": [
    {
     "name": "stdout",
     "output_type": "stream",
     "text": [
      "СДР (специальные права заимствования) 107.8026\n"
     ]
    }
   ],
   "source": [
    "max_value()"
   ]
  },
  {
   "cell_type": "code",
   "execution_count": null,
   "metadata": {},
   "outputs": [],
   "source": []
  },
  {
   "cell_type": "code",
   "execution_count": null,
   "metadata": {},
   "outputs": [],
   "source": []
  },
  {
   "cell_type": "code",
   "execution_count": null,
   "metadata": {},
   "outputs": [],
   "source": []
  },
  {
   "cell_type": "code",
   "execution_count": null,
   "metadata": {},
   "outputs": [],
   "source": []
  }
 ],
 "metadata": {
  "kernelspec": {
   "display_name": "Python 3",
   "language": "python",
   "name": "python3"
  },
  "language_info": {
   "codemirror_mode": {
    "name": "ipython",
    "version": 3
   },
   "file_extension": ".py",
   "mimetype": "text/x-python",
   "name": "python",
   "nbconvert_exporter": "python",
   "pygments_lexer": "ipython3",
   "version": "3.8.3"
  }
 },
 "nbformat": 4,
 "nbformat_minor": 4
}

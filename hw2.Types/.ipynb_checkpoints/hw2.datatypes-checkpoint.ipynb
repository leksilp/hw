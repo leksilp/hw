{
 "cells": [
  {
   "cell_type": "code",
   "execution_count": 61,
   "metadata": {},
   "outputs": [
    {
     "name": "stdout",
     "output_type": "stream",
     "text": [
      "at\n"
     ]
    }
   ],
   "source": [
    "x = 'Kate'\n",
    "\n",
    "if len(x)%2 == 1:\n",
    "    print(x[int(len(x)/2)])\n",
    "else:\n",
    "    print(x[int(len(x)/2-1):int(len(x)/2+1)])\n",
    "  "
   ]
  },
  {
   "cell_type": "code",
   "execution_count": 92,
   "metadata": {},
   "outputs": [
    {
     "name": "stdout",
     "output_type": "stream",
     "text": [
      "Введите число: 6\n",
      "Введите число: 3\n",
      "Введите число: 9\n",
      "Введите число: 6\n",
      "Введите число: 0\n",
      "Результат 24\n"
     ]
    }
   ],
   "source": [
    "x = 0\n",
    "while True:\n",
    "    us_in = int(input('Введите число: '))\n",
    "    if us_in == 0:\n",
    "        break\n",
    "    else:\n",
    "        x += us_in\n",
    "print('Результат', x)"
   ]
  },
  {
   "cell_type": "code",
   "execution_count": 42,
   "metadata": {},
   "outputs": [
    {
     "name": "stdout",
     "output_type": "stream",
     "text": [
      "Внимание, кто-то может остаться без пары\n"
     ]
    }
   ],
   "source": [
    "boys = ['Peter', 'Alex', 'John', 'Arthur', 'Richard']\n",
    "girls = ['Kate', 'Liza', 'Kira', 'Emma', 'Trisha', 'Sasha']\n",
    "if len(boys) == len(girls):\n",
    "    boys.sort()\n",
    "    girls.sort\n",
    "    for b, g in zip(boys, girls):\n",
    "        for x in b:\n",
    "            print(b,g)\n",
    "else:\n",
    "    print('Внимание, кто-то может остаться без пары')"
   ]
  },
  {
   "cell_type": "code",
   "execution_count": 88,
   "metadata": {},
   "outputs": [
    {
     "name": "stdout",
     "output_type": "stream",
     "text": [
      "Средняя температура в стране: Thailand - 23.857142857142854\n",
      "Средняя температура в стране: Germany - 13.799999999999997\n",
      "Средняя температура в стране: Russia - 3.7142857142857166\n",
      "Средняя температура в стране: Poland - 11.999999999999996\n"
     ]
    }
   ],
   "source": [
    "countries_temperature = [\n",
    "    ['Thailand', [75.2, 77, 78.8, 73.4, 68, 75.2, 77]],\n",
    "    ['Germany', [57.2, 55.4, 59, 59, 53.6]],\n",
    "    ['Russia', [35.6, 37.4, 39.2, 41, 42.8, 39.2, 35.6]],\n",
    "    ['Poland', [50, 50, 53.6, 57.2, 55.4, 55.4]]\n",
    "]\n",
    "tot = 0\n",
    "for country in countries_temperature:\n",
    "    print(f'Средняя температура в стране: {country[0]} - {((sum(country[1]))/len(country[1])-32)/1.8}')"
   ]
  }
 ],
 "metadata": {
  "kernelspec": {
   "display_name": "Python 3",
   "language": "python",
   "name": "python3"
  },
  "language_info": {
   "codemirror_mode": {
    "name": "ipython",
    "version": 3
   },
   "file_extension": ".py",
   "mimetype": "text/x-python",
   "name": "python",
   "nbconvert_exporter": "python",
   "pygments_lexer": "ipython3",
   "version": "3.8.3"
  }
 },
 "nbformat": 4,
 "nbformat_minor": 4
}

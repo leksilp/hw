{
 "cells": [
  {
   "cell_type": "markdown",
   "metadata": {},
   "source": [
    "Как найти уникальные значения, повторяющиеся значения в списках."
   ]
  },
  {
   "cell_type": "code",
   "execution_count": null,
   "metadata": {},
   "outputs": [],
   "source": [
    "my_list = ['John', 'William', 'Mary', 'James', 'John', 'Mary']"
   ]
  },
  {
   "cell_type": "code",
   "execution_count": null,
   "metadata": {},
   "outputs": [],
   "source": [
    "# получим список только с уникальными элементами из my_list\n",
    "res = []\n",
    "\n",
    "for name in my_list:\n",
    "    print(name)\n",
    "    if name not in res:\n",
    "        print(res)\n",
    "        res.append(name)\n",
    "        print(res)\n",
    "        \n",
    "# res"
   ]
  },
  {
   "cell_type": "code",
   "execution_count": null,
   "metadata": {},
   "outputs": [],
   "source": [
    "# получим список только с повторяющимся элементами из my_list\n",
    "res_2 = []\n",
    "\n",
    "for name in my_list:\n",
    "    print(my_list.count(name))\n"
   ]
  },
  {
   "cell_type": "code",
   "execution_count": null,
   "metadata": {},
   "outputs": [],
   "source": [
    "my_list = ['John', 'William','John', 'James', 'Mary', 'John', 'Mary']\n",
    "counter = {}\n",
    "for name in my_list:\n",
    "    counter[name] = counter.get(name, 0) + 1\n",
    "    doubles = {name: count for name, count in counter.items() if count > 1}\n",
    "print(doubles)"
   ]
  },
  {
   "cell_type": "code",
   "execution_count": null,
   "metadata": {},
   "outputs": [],
   "source": [
    "boys = ['Peter', 'Alex', 'John', 'Arthur', 'Richard', 'Jack', 'Jack', 'John']\n",
    "res = []\n",
    "for boy in boys:\n",
    "    if boys.count(boy) > 1 and boy not in res:\n",
    "        res.append(boy)\n",
    "print(res)"
   ]
  },
  {
   "cell_type": "code",
   "execution_count": null,
   "metadata": {},
   "outputs": [],
   "source": [
    "name = ['Peter', 'Alex', 'John', 'Arthur', 'Richard', 'Alex']\n",
    "res = []\n",
    "for el in name:\n",
    "    if name.count(el) > 1 and el not in res:\n",
    "        res.append(el)\n",
    "print(res)"
   ]
  },
  {
   "cell_type": "code",
   "execution_count": null,
   "metadata": {},
   "outputs": [],
   "source": [
    "elif (date>=20 and date<=30 and month==4) or (month==5 and date>=1 and date<=20):\n",
    "    print(\"Знак зодиака:Телец\")"
   ]
  },
  {
   "cell_type": "code",
   "execution_count": null,
   "metadata": {},
   "outputs": [],
   "source": []
  },
  {
   "cell_type": "code",
   "execution_count": null,
   "metadata": {},
   "outputs": [],
   "source": [
    "my_list = ['John' , 'Mary' , 'William', 'Mary','John']\n",
    "res2 = []\n",
    "for name in my_list:\n",
    "    if my_list.count(name) > 1 and name not in res2:\n",
    "        res2.append(name)\n",
    "print(res2)"
   ]
  },
  {
   "cell_type": "markdown",
   "metadata": {},
   "source": [
    "\n",
    "Дана переменная, в которой хранится шестизначное число (номер проездного билета). Напишите программу, которая будет определять, является ли данный билет \"счастливым\". Билет считается счастливым, если сумма первых трех цифр совпадает с суммой последних трех цифр номера.\n",
    "\n",
    "Примеры работы программы:\n",
    "\n",
    "number = 123456\n",
    "Результат:\n",
    "Несчастливый билет\n",
    "\n",
    "number = 123321\n",
    "Результат:\n",
    "Счастливый билет"
   ]
  },
  {
   "cell_type": "code",
   "execution_count": null,
   "metadata": {},
   "outputs": [],
   "source": [
    "number = 247456"
   ]
  },
  {
   "cell_type": "code",
   "execution_count": null,
   "metadata": {},
   "outputs": [],
   "source": [
    "num_1 = number // 100000\n",
    "num_1"
   ]
  },
  {
   "cell_type": "code",
   "execution_count": null,
   "metadata": {},
   "outputs": [],
   "source": [
    "num_2 = number % 100000 // 10000\n",
    "num_2"
   ]
  },
  {
   "cell_type": "code",
   "execution_count": null,
   "metadata": {},
   "outputs": [],
   "source": [
    "# через срезы"
   ]
  },
  {
   "cell_type": "code",
   "execution_count": null,
   "metadata": {},
   "outputs": [],
   "source": [
    "number = 247456\n",
    "\n",
    "num_str = str(number)\n",
    "num_str[1]"
   ]
  },
  {
   "cell_type": "code",
   "execution_count": null,
   "metadata": {},
   "outputs": [],
   "source": [
    "# примитивный пользовательский ввод команд в программе\n",
    "\n",
    "while True:\n",
    "    user_input = input('Введите команду')\n",
    "    if user_input == 'do':\n",
    "        continue\n",
    "    elif user_input =='dosmthelse':\n",
    "        pass\n",
    "    elif user_input == 'quit':\n",
    "        print('Выход')\n",
    "        break"
   ]
  },
  {
   "cell_type": "code",
   "execution_count": null,
   "metadata": {},
   "outputs": [],
   "source": [
    "my_list = ['John' , 'Mary' , 'William', 'Mary','John']"
   ]
  },
  {
   "cell_type": "code",
   "execution_count": null,
   "metadata": {},
   "outputs": [],
   "source": [
    "# методы списков всегда меняеют исходный список\n",
    "# print(my_list.sort())\n",
    "# print(my_list)\n"
   ]
  },
  {
   "cell_type": "code",
   "execution_count": null,
   "metadata": {},
   "outputs": [],
   "source": [
    "# функция возвращает новый отсортированный список\n",
    "print(sorted(my_list))"
   ]
  },
  {
   "cell_type": "code",
   "execution_count": null,
   "metadata": {},
   "outputs": [],
   "source": [
    "# print(my_list)\n",
    "new_list = sorted(my_list)\n",
    "new_list"
   ]
  },
  {
   "cell_type": "markdown",
   "metadata": {},
   "source": [
    "# Практика. Посчитаем сумму элементов по главной диагонали в матрице"
   ]
  },
  {
   "cell_type": "code",
   "execution_count": null,
   "metadata": {},
   "outputs": [],
   "source": [
    "data = [\n",
    "    [13, 25, 23, 34],\n",
    "    [45, 32, 44, 47],\n",
    "    [12, 33, 23, 95],\n",
    "    [13, 53, 34, 35]\n",
    "]"
   ]
  },
  {
   "cell_type": "code",
   "execution_count": null,
   "metadata": {},
   "outputs": [],
   "source": [
    "sum_ = 0\n",
    "for index, row in enumerate(data):\n",
    "    sum_ += row[index] \n",
    "print(sum_)"
   ]
  },
  {
   "cell_type": "code",
   "execution_count": null,
   "metadata": {},
   "outputs": [],
   "source": [
    "sum_ = 0        \n",
    "for i in range(len(data)):     \n",
    "    sum_ += data[i][i]\n",
    "sum_"
   ]
  },
  {
   "cell_type": "code",
   "execution_count": null,
   "metadata": {},
   "outputs": [],
   "source": [
    "index = 0\n",
    "sum_ = 0\n",
    "for row in data:\n",
    "    print(row)\n",
    "    sum_ = sum_ + row[index]\n",
    "    index = index + 1\n",
    "    \n",
    "sum_"
   ]
  },
  {
   "cell_type": "code",
   "execution_count": null,
   "metadata": {},
   "outputs": [],
   "source": [
    "data = [ [13, 25, 23, 34],\n",
    "         [45, 32, 44, 47],\n",
    "         [12, 33, 23, 95],\n",
    "         [13, 53, 34, 35]\n",
    "       ]\n",
    "x = 0\n",
    "s = 0\n",
    "for number in data:\n",
    "    s += number[x]\n",
    "    x += 1\n",
    "print(s)"
   ]
  },
  {
   "cell_type": "code",
   "execution_count": null,
   "metadata": {},
   "outputs": [],
   "source": [
    "# посчитаем обратную диагональ\n",
    "index = -1\n",
    "sum_ = 0\n",
    "for row in data:\n",
    "#     print(row)\n",
    "    sum_ += row[index]\n",
    "    index -= 1\n",
    "    \n",
    "sum_"
   ]
  },
  {
   "cell_type": "code",
   "execution_count": null,
   "metadata": {},
   "outputs": [],
   "source": [
    "i = 0 \n",
    "s = 0 \n",
    "for n in data: \n",
    "    s += n[len(n)-1 - i] \n",
    "    i += 1\n",
    "s"
   ]
  },
  {
   "cell_type": "markdown",
   "metadata": {},
   "source": [
    "# Практика. Найдем в тексте слова длинее n букв"
   ]
  },
  {
   "cell_type": "code",
   "execution_count": null,
   "metadata": {},
   "outputs": [],
   "source": [
    "text = 'Python — высокоуровневый язык программирования, ориентированный на повышение производительности разработчика и читаемости кода.'"
   ]
  },
  {
   "cell_type": "code",
   "execution_count": null,
   "metadata": {},
   "outputs": [],
   "source": [
    "for word in text.split():\n",
    "    if len(word) > 15:\n",
    "        print(word)"
   ]
  },
  {
   "cell_type": "markdown",
   "metadata": {},
   "source": [
    "# Практика. Вывести фамилиии построчно с указанием профессии"
   ]
  },
  {
   "cell_type": "code",
   "execution_count": null,
   "metadata": {},
   "outputs": [],
   "source": [
    "professions = ['IT', 'Физика', 'Математика']\n",
    "persons = [['Гейтс', 'Джобс', 'Возняк'], ['Эйнштейн', 'Фейнман'], ['Эвклид', 'Ньютон']]"
   ]
  },
  {
   "cell_type": "markdown",
   "metadata": {},
   "source": [
    "IT:\n",
    "Гейтс\n",
    "Джобс\n",
    "Возняк\n",
    "\n",
    "Физика:\n",
    "Эйнштейн\n",
    "Фейнман"
   ]
  },
  {
   "cell_type": "code",
   "execution_count": null,
   "metadata": {},
   "outputs": [],
   "source": [
    "for pro, names in zip(professions, persons):\n",
    "    print(f'{pro}:')\n",
    "    for name in names:\n",
    "        print(name)\n",
    "    print()"
   ]
  },
  {
   "cell_type": "code",
   "execution_count": null,
   "metadata": {},
   "outputs": [],
   "source": [
    "for pro, names in zip(professions, persons):\n",
    "    print(f'{pro}:')\n",
    "    print('\\n'.join(names), '\\n')"
   ]
  },
  {
   "cell_type": "code",
   "execution_count": null,
   "metadata": {},
   "outputs": [],
   "source": [
    "for prof in professions:\n",
    "    print(prof)\n",
    "    for name in persons:\n",
    "        print(name)"
   ]
  },
  {
   "cell_type": "code",
   "execution_count": null,
   "metadata": {},
   "outputs": [],
   "source": [
    "index = 0\n",
    "for profession in professions:\n",
    "    print(profession,':')\n",
    "    print(persons[index])\n",
    "    index += 1"
   ]
  },
  {
   "cell_type": "code",
   "execution_count": null,
   "metadata": {},
   "outputs": [],
   "source": [
    "for prof in professions: \n",
    "    i = 0\n",
    "    print(prof) \n",
    "    for sur in persons[i]: \n",
    "        print(sur)\n",
    "        i += 1\n",
    "    print()"
   ]
  },
  {
   "cell_type": "markdown",
   "metadata": {},
   "source": [
    "# Практика. Нарисовать представленный шаблон\n",
    "\n",
    "1                                                                                                             \n",
    "22                                                                                                            \n",
    "333                                                                                                           \n",
    "4444                                                                                                          \n",
    "55555                                                                                                         \n",
    "666666                                                                                                        \n",
    "7777777                                                                                                       \n",
    "88888888                                                                                                      \n",
    "999999999  "
   ]
  },
  {
   "cell_type": "code",
   "execution_count": null,
   "metadata": {},
   "outputs": [],
   "source": [
    "num = 0\n",
    "while num < 10:\n",
    "    print(str(num) * num)\n",
    "    num += 1"
   ]
  },
  {
   "cell_type": "code",
   "execution_count": null,
   "metadata": {},
   "outputs": [],
   "source": [
    "for i in range(10):\n",
    "    print(str(i) * i)"
   ]
  },
  {
   "cell_type": "code",
   "execution_count": null,
   "metadata": {},
   "outputs": [],
   "source": [
    "for i in range(5, 10, 2):\n",
    "    for j in range(i):\n",
    "        print(i, end='')\n",
    "    print()"
   ]
  },
  {
   "cell_type": "code",
   "execution_count": null,
   "metadata": {},
   "outputs": [],
   "source": [
    "# \"разглаживаем список\"\n",
    "my_list = [['Екатеринбург', 'Москва'], ['Санкт-Петербург', 'Норильск'], ['Пермь', 'Астрахань']]\n",
    "# res = [..., ..., ... , ... , ..., ...]"
   ]
  },
  {
   "cell_type": "code",
   "execution_count": null,
   "metadata": {},
   "outputs": [],
   "source": [
    "sum(my_list, [])"
   ]
  },
  {
   "cell_type": "code",
   "execution_count": null,
   "metadata": {},
   "outputs": [],
   "source": [
    "sum([], my_list)"
   ]
  },
  {
   "cell_type": "code",
   "execution_count": null,
   "metadata": {},
   "outputs": [],
   "source": [
    "sum(my_list, [])"
   ]
  },
  {
   "cell_type": "code",
   "execution_count": 2,
   "metadata": {},
   "outputs": [
    {
     "name": "stdout",
     "output_type": "stream",
     "text": [
      "блокнот - 47\n",
      "ручка - 40\n",
      "папка - 36\n"
     ]
    }
   ],
   "source": [
    "# А можно тогда еще пример, как вывести список со значением и суммой, например?\n",
    "\n",
    "sales = [\n",
    "    ['блокнот', [5, 7, 16, 19]],\n",
    "    ['ручка', [7, 9, 11, 13]],\n",
    "    ['папка', [12, 15, 7, 2]]\n",
    "]\n",
    "sum_ = 0\n",
    "for sale in sales:\n",
    "    print(f'{sale[0]} - {sum(sale[1])}')"
   ]
  },
  {
   "cell_type": "code",
   "execution_count": null,
   "metadata": {},
   "outputs": [],
   "source": [
    "list = []\n",
    "str = ''\n",
    "tuple = ()"
   ]
  }
 ],
 "metadata": {
  "kernelspec": {
   "display_name": "Python 3",
   "language": "python",
   "name": "python3"
  },
  "language_info": {
   "codemirror_mode": {
    "name": "ipython",
    "version": 3
   },
   "file_extension": ".py",
   "mimetype": "text/x-python",
   "name": "python",
   "nbconvert_exporter": "python",
   "pygments_lexer": "ipython3",
   "version": "3.8.3"
  }
 },
 "nbformat": 4,
 "nbformat_minor": 4
}
